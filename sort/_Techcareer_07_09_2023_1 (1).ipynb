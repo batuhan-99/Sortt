{
 "cells": [
  {
   "cell_type": "markdown",
   "id": "8935bd88-eb4c-42cd-9922-564430109ed5",
   "metadata": {},
   "source": [
    "# SIRALAMA ALGORİTMALARI ÖRNEKLER"
   ]
  },
  {
   "cell_type": "code",
   "execution_count": 1,
   "id": "7dcccb53-f753-4abe-a484-8325dee981fe",
   "metadata": {},
   "outputs": [],
   "source": [
    "import pandas as pd ; import numpy as np "
   ]
  },
  {
   "cell_type": "code",
   "execution_count": 2,
   "id": "54293f3b-7ee5-40c5-bb58-9810867dff86",
   "metadata": {},
   "outputs": [],
   "source": [
    "import random"
   ]
  },
  {
   "cell_type": "code",
   "execution_count": 10,
   "id": "94c3f7d5-551b-46fd-b3eb-01e5f02de78a",
   "metadata": {},
   "outputs": [],
   "source": [
    "import sorting"
   ]
  },
  {
   "cell_type": "code",
   "execution_count": 3,
   "id": "f8e2f1f7-0335-413d-8866-a37e084707c5",
   "metadata": {},
   "outputs": [],
   "source": [
    "veri=[random.randint(1,100) for _ in range(20)]"
   ]
  },
  {
   "cell_type": "code",
   "execution_count": 4,
   "id": "e81a14ce-7278-433f-8582-b810767b2ef9",
   "metadata": {},
   "outputs": [
    {
     "name": "stdout",
     "output_type": "stream",
     "text": [
      "Orijinal veri seti:\n",
      "[56, 99, 3, 72, 57, 33, 83, 63, 82, 95, 35, 24, 58, 17, 86, 44, 12, 92, 66, 98]\n"
     ]
    }
   ],
   "source": [
    "print(\"Orijinal veri seti:\")\n",
    "print(veri)"
   ]
  },
  {
   "cell_type": "markdown",
   "id": "cdb3f5dc-ea00-460c-a153-6ddead5181c6",
   "metadata": {},
   "source": [
    "## bubble sort"
   ]
  },
  {
   "cell_type": "code",
   "execution_count": 13,
   "id": "4482deaf-1a10-40f9-9c2c-9e1b519b972e",
   "metadata": {},
   "outputs": [
    {
     "name": "stdout",
     "output_type": "stream",
     "text": [
      "\n",
      "Bubble Sort:\n",
      "[3, 12, 17, 24, 33, 35, 44, 56, 57, 58, 63, 66, 72, 82, 83, 86, 92, 95, 98, 99]\n"
     ]
    }
   ],
   "source": [
    "bubble_sorted = veri.copy()\n",
    "sorting.bubble(bubble_sorted)\n",
    "print(\"\\nBubble Sort:\")\n",
    "print(bubble_sorted)"
   ]
  },
  {
   "cell_type": "markdown",
   "id": "37529c5c-cb71-42bb-8a5d-64f5b310e077",
   "metadata": {},
   "source": [
    "## Selection Sort"
   ]
  },
  {
   "cell_type": "code",
   "execution_count": 14,
   "id": "8f250a4b-7327-4fc5-82fc-ff97059cfb75",
   "metadata": {},
   "outputs": [
    {
     "name": "stdout",
     "output_type": "stream",
     "text": [
      "\n",
      " Seçmeli Sıralama: \n",
      "[3, 12, 17, 24, 33, 35, 44, 56, 57, 58, 63, 66, 72, 82, 83, 86, 92, 95, 98, 99]\n"
     ]
    }
   ],
   "source": [
    "selection_sorted=veri.copy()\n",
    "sorting.selection(selection_sorted)\n",
    "print(\"\\n Seçmeli Sıralama: \")\n",
    "print(selection_sorted)"
   ]
  },
  {
   "cell_type": "code",
   "execution_count": 1,
   "id": "c6057d8c-7f5d-4dd6-acd3-9910bf7d95cd",
   "metadata": {},
   "outputs": [
    {
     "name": "stdout",
     "output_type": "stream",
     "text": [
      "Merhaba\n"
     ]
    }
   ],
   "source": [
    "print(\"Merhaba\")"
   ]
  },
  {
   "cell_type": "markdown",
   "id": "e98ba1dc-1124-4151-b063-77f1f126cc75",
   "metadata": {},
   "source": [
    "Insertion Sort"
   ]
  },
  {
   "cell_type": "code",
   "execution_count": null,
   "id": "84c6e913-8cfe-4b2f-94f9-1204713b430e",
   "metadata": {},
   "outputs": [],
   "source": [
    "import pandas as pd ; import numpy as np \n",
    "import random\n",
    "veri = [9,5,1,4,3]\n",
    "def insertionSort(list):\n",
    "    for index in range(1,len(list)):\n",
    "        value=list[index]\n",
    "        i=index-1\n",
    "        a=0\n",
    "        while i>=0:\n",
    "            if value<list[i]:\n",
    "                list[i+1]=list[i]\n",
    "                list[i]=value\n",
    "                i=i-1\n",
    "                a +=1\n",
    "\n",
    "    return list\n",
    "\n",
    "                \n",
    "sorted_array=insertionSort(veri)\n",
    "print(\"Sirali dizi:\")\n",
    "print(sorted_array)"
   ]
  },
  {
   "cell_type": "code",
   "execution_count": null,
   "id": "631fd55b-12ea-4ac5-a921-8ebf2e0dff1d",
   "metadata": {},
   "outputs": [],
   "source": [
    "def quick_sort(array):\n",
    "    if len(array)<=1:\n",
    "        return array\n",
    "\n",
    "    pivot=array[len(array)//2]\n",
    "    left=[x for x in array if x < pivot]\n",
    "    right=[x for x in array if x >= pivot]\n",
    "\n",
    "    return quick_sort(left) + [pivot] + quick_sort(right)\n",
    "\n",
    "\n",
    "arr = [12,4,5,6,7,3,1,15]\n",
    "sorted_arr = quick_sort(arr)\n",
    "print(\"Sıralanmış dizi:\", sorted_arr)\n"
   ]
  },
  {
   "cell_type": "code",
   "execution_count": null,
   "id": "208c583d-4333-4b7c-be49-95580610222f",
   "metadata": {},
   "outputs": [],
   "source": [
    "def merge_sort(array):\n",
    "    if len(array) <= 1:\n",
    "        return array\n",
    "\n",
    "    mid=len(array)//2\n",
    "    left=merge_sort(array[:mid])\n",
    "    right=merge_sort(array[mid:])\n",
    "\n",
    "    return merge(left,right)\n",
    "\n",
    "def merge(left,right):\n",
    "    result = []\n",
    "    i, j = 0, 0\n",
    "\n",
    "    while i < len(left) and j < len(right):\n",
    "        if left[i] <= right[j]:\n",
    "            result.append(left[i])\n",
    "            i += 1\n",
    "        else:\n",
    "            result.append(right[j])\n",
    "            j += 1\n",
    "\n",
    "    result += left[i:]\n",
    "    result += right[j:]\n",
    "\n",
    "    return result\n",
    "\n",
    "arr = [12,4,5,6,7,3,1,15]\n",
    "sorted_arr = merge_sort(arr)\n",
    "print(\"Sıralanmış dizi:\", sorted_arr)"
   ]
  },
  {
   "cell_type": "code",
   "execution_count": null,
   "id": "f16761b5-0b64-4486-aabd-9397b167d10e",
   "metadata": {},
   "outputs": [],
   "source": [
    "def heapify(array, n, i):\n",
    "    largest = i\n",
    "    left = 2 * i + 1\n",
    "    right = 2 * i + 2\n",
    "\n",
    "    if left < n and array[largest] < array[left]:\n",
    "        largest = left\n",
    "\n",
    "    if right < n and array[largest] < array[right]:\n",
    "        largest = right\n",
    "\n",
    "    if largest != i:\n",
    "        array[i], array[largest] = array[largest], array[i]\n",
    "        heapify(array, n, largest)\n",
    "\n",
    "def heap_sort(array):\n",
    "    n = len(array)\n",
    "\n",
    "    for i in range(n // 2 - 1, -1, -1):\n",
    "        heapify(array, n, i)\n",
    "\n",
    "    for i in range(n - 1, 0, -1):\n",
    "        array[i], array[0] = array[0], array[i]\n",
    "        heapify(array, i, 0)\n",
    "\n",
    "    return array\n",
    "\n",
    "arr = [12,4,5,6,7,3,1,15]\n",
    "sorted_arr = heap_sort(arr)\n",
    "print(\"Sıralanmış dizi:\", sorted_arr)\n"
   ]
  },
  {
   "cell_type": "code",
   "execution_count": null,
   "id": "41e6870e-fb37-4870-90c2-73d2758f1f49",
   "metadata": {},
   "outputs": [],
   "source": [
    "def counting_sort(array):\n",
    "    max_value = max(array)\n",
    "    min_value = min(array)\n",
    "\n",
    "    count_array = [0] * (max_value - min_value + 1)\n",
    "\n",
    "    for i in range(len(array)):\n",
    "        count_array[array[i] - min_value] += 1\n",
    "\n",
    "    result_array = []\n",
    "    for i in range(len(count_array)):\n",
    "        for j in range(count_array[i]):\n",
    "            result_array.append(i + min_value)\n",
    "\n",
    "    return result_array\n",
    "\n",
    "\n",
    "arr = [12, 4, 5, 6, 7, 3, 1, 15]\n",
    "sorted_arr = counting_sort(arr)\n",
    "print(\"Sıralanmış dizi:\", sorted_arr)"
   ]
  },
  {
   "cell_type": "code",
   "execution_count": null,
   "id": "a369124a-1382-4a94-baaf-4236efc1883e",
   "metadata": {},
   "outputs": [],
   "source": [
    "def radix_sort(array):\n",
    "    max_value = max(array)\n",
    "    n_digits = len(str(max_value))\n",
    "\n",
    "    for i in range(n_digits):\n",
    "        buckets = [[] for _ in range(10)]\n",
    "\n",
    "        for number in array:\n",
    "            buckets[number // 10**i % 10].append(number)\n",
    "\n",
    "        array = []\n",
    "        for bucket in buckets:\n",
    "            array += bucket\n",
    "\n",
    "    return array\n"
   ]
  },
  {
   "cell_type": "code",
   "execution_count": null,
   "id": "7c79431c-aa75-4c6e-9096-6904481989b6",
   "metadata": {},
   "outputs": [],
   "source": [
    "def topological_sort(graph):\n",
    "    in_degrees = {node: 0 for node in graph}\n",
    "\n",
    "    for node, neighbors in graph.items():\n",
    "        for neighbor in neighbors:\n",
    "            in_degrees[neighbor] += 1\n",
    "\n",
    "    queue = []\n",
    "    for node, in_degree in in_degrees.items():\n",
    "        if in_degree == 0:\n",
    "            queue.append(node)\n",
    "\n",
    "    sorted_nodes = []\n",
    "    while queue:\n",
    "        node = queue.pop(0)\n",
    "        sorted_nodes.append(node)\n",
    "\n",
    "        for neighbor in graph[node]:\n",
    "            in_degrees[neighbor] -= 1\n",
    "            if in_degrees[neighbor] == 0:\n",
    "                queue.append(neighbor)\n",
    "\n",
    "    return sorted_nodes\n",
    "\n",
    "arr = [12, 4, 5, 6, 7, 3, 1, 15]\n",
    "sorted_arr =topological_sort(arr)\n",
    "print(\"Sıralanmış dizi:\", sorted_arr)"
   ]
  },
  {
   "cell_type": "code",
   "execution_count": null,
   "id": "6ebde506-7743-460f-9b8f-6073a92a5ca9",
   "metadata": {},
   "outputs": [],
   "source": []
  }
 ],
 "metadata": {
  "kernelspec": {
   "display_name": "Python 3 (ipykernel)",
   "language": "python",
   "name": "python3"
  },
  "language_info": {
   "codemirror_mode": {
    "name": "ipython",
    "version": 3
   },
   "file_extension": ".py",
   "mimetype": "text/x-python",
   "name": "python",
   "nbconvert_exporter": "python",
   "pygments_lexer": "ipython3",
   "version": "3.10.6"
  }
 },
 "nbformat": 4,
 "nbformat_minor": 5
}
